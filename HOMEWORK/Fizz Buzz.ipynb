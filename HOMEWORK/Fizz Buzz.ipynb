{
 "cells": [
  {
   "cell_type": "markdown",
   "id": "1155f36f",
   "metadata": {},
   "source": [
    "Fizz Buzz là một bài toán lập trình cổ điển. Đây là phiên bản sửa đổi nhẹ của nó.\n",
    "Viết chương trình lấy đầu vào là hai số nguyên: đầu và cuối khoảng (cả hai số đều thuộc khoảng).\n",
    "Chương trình sẽ in ra các số trong khoảng này. Nhưng nếu số đó chia hết cho 3, bạn sẽ in ra “Fizz” thay vì nó, nếu số đó chia hết cho 5, in ra “Buzz” và nếu số đó chia hết cho cả 3 và 5, hãy in ra “FizzBuzz”."
   ]
  },
  {
   "cell_type": "code",
   "execution_count": 13,
   "id": "b6548bed",
   "metadata": {},
   "outputs": [
    {
     "name": "stdout",
     "output_type": "stream",
     "text": [
      "0\n",
      "0\n",
      "0 Fizz\n",
      "0 Buzz\n",
      "0 FizzBuzz\n"
     ]
    }
   ],
   "source": [
    "a = int(input())\n",
    "b = int(input())\n",
    "mini = min(a,b)\n",
    "maxi = max(a,b)\n",
    "for i in range (mini, maxi + 1):\n",
    "    if i % 3 == 0:\n",
    "        print(i,'Fizz')\n",
    "    if i % 5 == 0:\n",
    "        print(i,'Buzz')\n",
    "    if (i % 3 == 0) and (i % 5 == 0):\n",
    "        print(i,'FizzBuzz')\n",
    "   "
   ]
  },
  {
   "cell_type": "code",
   "execution_count": null,
   "id": "156c0c1d",
   "metadata": {},
   "outputs": [],
   "source": []
  }
 ],
 "metadata": {
  "kernelspec": {
   "display_name": "Python 3 (ipykernel)",
   "language": "python",
   "name": "python3"
  },
  "language_info": {
   "codemirror_mode": {
    "name": "ipython",
    "version": 3
   },
   "file_extension": ".py",
   "mimetype": "text/x-python",
   "name": "python",
   "nbconvert_exporter": "python",
   "pygments_lexer": "ipython3",
   "version": "3.7.8"
  }
 },
 "nbformat": 4,
 "nbformat_minor": 5
}
