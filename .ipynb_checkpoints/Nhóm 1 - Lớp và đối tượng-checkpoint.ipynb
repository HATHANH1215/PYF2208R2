{
 "cells": [
  {
   "cell_type": "markdown",
   "id": "7ade5b3d",
   "metadata": {},
   "source": [
    "Lớp (Class) là tập hợp tất cả các đối tượng có chung các thuộc tính và hành vi.\n",
    "Thuộc tính là những tính chất, hình dáng bên ngoài, màu…của đối tượng. (~ Dữ liệu)\n",
    "Hành vi là những chức năng, hành động của đối tượng có thể thực hiện được.(~ Hàm)\n",
    "Ví dụ:\n",
    "Trong class Học sinh, chúng ta có:\n",
    "Thuộc tính: id, tên tuổi, địa chỉ, điểm toán, điểm văn,...\n",
    "Hành vi: check, show"
   ]
  },
  {
   "cell_type": "code",
   "execution_count": null,
   "id": "1e807412",
   "metadata": {},
   "outputs": [],
   "source": [
    "# Cách khai báo lớp\n",
    "# Giống như định nghĩa hàm bắt đầu bằng từ khóa def trong Python, định nghĩa lớp bắt đầu bằng từ khóa class.\n",
    "\n",
    "class HocSinh:\n",
    "    'docstrings'\n",
    "    <Câu lệnh 1>\n",
    "    <Câu lệnh 2>\n",
    "    .\n",
    "    .\n",
    "    <Câu lệnh N>"
   ]
  },
  {
   "cell_type": "markdown",
   "id": "dab64c11",
   "metadata": {},
   "source": [
    "Trong đó:\n",
    "- HocSinh: là tên được đặt cho lớp được định nghĩa, chúng ta sẽ tương tác với các đối tượng sinh ra từ lớp bằng cách sử dụng tên này.\n",
    "- Chuỗi đầu tiên bên trong lớp được gọi là docstring và có nhiệm vụ mô tả ngắn gọn về lớp, mặc dù là không bắt buộc.\n",
    "- Các câu lệnh để định nghĩa các thuộc tính và hành vi (phương thức) của đối tượng trong lớp."
   ]
  },
  {
   "cell_type": "code",
   "execution_count": null,
   "id": "e7ec99d0",
   "metadata": {},
   "outputs": [],
   "source": [
    "class HocSinh:\n",
    "    'Đây là lớp Học sinh đánh giá bằng 2 môn Toán và Văn'\n",
    "    id = ''\n",
    "    ten = ''\n",
    "    tuoi = ''\n",
    "    dia_chi = ''\n",
    "    diem_toan = ''\n",
    "    dien_van = ''\n",
    "    level = ''\n",
    "    def __init__(self, id, ten, tuoi, dia_chi, diem_toan, diem_van):\n",
    "        self.id = id\n",
    "        self.ten = ten\n",
    "        self.tuoi = tuoi\n",
    "        self.dia_chi = dia_chi\n",
    "        self.diem_toan = diem_toan\n",
    "        self.diem_van = diem_van\n",
    "    def check(self, diem_toan, diem_van):\n",
    "        if diem_toan >= 8 and diem_van >= 8:\n",
    "            self.level = 'Gioi'\n",
    "        elif diem_toan <= 5 and diem_van <= 5:\n",
    "            self.level = 'kem'\n",
    "        else:\n",
    "            self.level = 'trung binh'\n",
    "    def show(self):\n",
    "        self.check(self.diem_toan, self.diem_van)\n",
    "        print(f'Thông báo {self.ten} thuộc level: {self.level}')"
   ]
  },
  {
   "cell_type": "markdown",
   "id": "aefe52f6",
   "metadata": {},
   "source": [
    "Về mặt biểu diễn các khối lệnh, áp dụng các quy tắc thụt lề tương tự như hàm với lưu ý ở đây khối định nghĩa lớp là khối lệnh lớn nhất, sau đó sẽ đến các khối lệnh định nghĩa hàm (phương thức) trong lớp, các khối điều kiện, vòng lặp...Mỗi khối lệnh nhỏ nằm trong khối lệnh lớn sẽ phải thụt dòng một khoảng bằng nhau!"
   ]
  }
 ],
 "metadata": {
  "kernelspec": {
   "display_name": "Python 3 (ipykernel)",
   "language": "python",
   "name": "python3"
  },
  "language_info": {
   "codemirror_mode": {
    "name": "ipython",
    "version": 3
   },
   "file_extension": ".py",
   "mimetype": "text/x-python",
   "name": "python",
   "nbconvert_exporter": "python",
   "pygments_lexer": "ipython3",
   "version": "3.7.8"
  }
 },
 "nbformat": 4,
 "nbformat_minor": 5
}
