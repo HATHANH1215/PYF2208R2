{
 "cells": [
  {
   "cell_type": "code",
   "execution_count": 7,
   "id": "3e14ffa3",
   "metadata": {},
   "outputs": [
    {
     "name": "stdout",
     "output_type": "stream",
     "text": [
      "Doan Thanh Ha\n",
      "Unit 5/16 Capron, Crawley, 6009\n",
      "Data Analyst class\n"
     ]
    }
   ],
   "source": [
    "print (\"Doan Thanh Ha\")\n",
    "print (\"Unit 5/16 Capron, Crawley, 6009\"),\n",
    "print (\"Data Analyst class\")"
   ]
  }
 ],
 "metadata": {
  "kernelspec": {
   "display_name": "Python 3 (ipykernel)",
   "language": "python",
   "name": "python3"
  },
  "language_info": {
   "codemirror_mode": {
    "name": "ipython",
    "version": 3
   },
   "file_extension": ".py",
   "mimetype": "text/x-python",
   "name": "python",
   "nbconvert_exporter": "python",
   "pygments_lexer": "ipython3",
   "version": "3.7.8"
  }
 },
 "nbformat": 4,
 "nbformat_minor": 5
}
