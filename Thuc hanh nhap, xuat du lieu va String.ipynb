{
 "cells": [
  {
   "cell_type": "markdown",
   "id": "8a8896df",
   "metadata": {},
   "source": [
    "## bai 1\n",
    "viet chuong trinh nhap vao 1 chuoi va in ra cac ky tu co index la so chan trong chuoi\n",
    "vd str=\"python\"\n",
    "output: pto"
   ]
  },
  {
   "cell_type": "code",
   "execution_count": 1,
   "id": "03438d69",
   "metadata": {},
   "outputs": [
    {
     "name": "stdout",
     "output_type": "stream",
     "text": [
      "Ha Noi dep lam!\n"
     ]
    }
   ],
   "source": [
    "content = 'Ha Noi dep lam!'\n",
    "print (content)"
   ]
  },
  {
   "cell_type": "code",
   "execution_count": 4,
   "id": "70439a02",
   "metadata": {},
   "outputs": [
    {
     "name": "stdout",
     "output_type": "stream",
     "text": [
      "H o e a!\n"
     ]
    }
   ],
   "source": [
    "content = 'Ha Noi dep lam!'\n",
    "print (content[::2])"
   ]
  },
  {
   "cell_type": "markdown",
   "id": "fed510b8",
   "metadata": {},
   "source": [
    "## Bai 2\n",
    "nhap 1 so do o dv met(m). In ra so do ow dv centimet (cm)\n"
   ]
  },
  {
   "cell_type": "code",
   "execution_count": 8,
   "id": "2fbcacac",
   "metadata": {},
   "outputs": [
    {
     "name": "stdout",
     "output_type": "stream",
     "text": [
      "nhap so do theo m:2\n",
      "200\n"
     ]
    }
   ],
   "source": [
    "So_do_m = input(\"nhap so do theo m:\")\n",
    "So_do_cm = int(So_do_m) * 100\n",
    "print(So_do_cm) "
   ]
  },
  {
   "cell_type": "code",
   "execution_count": 10,
   "id": "24fbe5b2",
   "metadata": {},
   "outputs": [
    {
     "name": "stdout",
     "output_type": "stream",
     "text": [
      "Nhap so do:1.5\n",
      "1.5m = 150.0cm\n"
     ]
    }
   ],
   "source": [
    "m = float(input('Nhap so do:'))\n",
    "cm = m *100\n",
    "print(f\"{m}m = {cm}cm\")"
   ]
  },
  {
   "cell_type": "markdown",
   "id": "0ff2a92a",
   "metadata": {},
   "source": [
    "## Bai 3\n",
    "nhap vao tien_luong_theo_gio va so_gio trong 1 thang va tien_thuong. Sau do in ra tong thu nhap trong thang. Biet rang tong thu nhap = tien luong theo gio * so gio + tien thuong"
   ]
  },
  {
   "cell_type": "code",
   "execution_count": 13,
   "id": "82373659",
   "metadata": {},
   "outputs": [
    {
     "name": "stdout",
     "output_type": "stream",
     "text": [
      " Nhap so tien luong theo gio:500\n",
      " Nhap so gio:40\n",
      " Nhap so tien thuong:8000\n",
      "tong thu nhap trong thang la: 28000.0\n"
     ]
    }
   ],
   "source": [
    "rate = float(input(' Nhap so tien luong theo gio:'))\n",
    "hour = float(input(' Nhap so gio:'))\n",
    "bonus = float(input(' Nhap so tien thuong:'))\n",
    "income = rate * hour + bonus\n",
    "print (f\"tong thu nhap trong thang la: {income}\")"
   ]
  },
  {
   "cell_type": "markdown",
   "id": "3d268071",
   "metadata": {},
   "source": [
    "## Bai 4\n",
    "Nhap vao 1 'string' va 1 so \"x\". Hay xoa \"x\" ky tu dau tien cua string\n",
    "VD: string = \"HelloPython\", x= 3\n",
    "output 'loPython'"
   ]
  },
  {
   "cell_type": "code",
   "execution_count": 15,
   "id": "1360e593",
   "metadata": {},
   "outputs": [
    {
     "name": "stdout",
     "output_type": "stream",
     "text": [
      "Nhap string:1234567890\n",
      "Nhap so ky tu can xoa:5\n",
      "String sau khi cat la:67890\n"
     ]
    }
   ],
   "source": [
    "string = input(\"Nhap string:\")\n",
    "x = int(input(\"Nhap so ky tu can xoa:\"))\n",
    "string = string[x:]\n",
    "print(f\"String sau khi cat la:{string}\")"
   ]
  },
  {
   "cell_type": "markdown",
   "id": "95028b50",
   "metadata": {},
   "source": [
    "## Bai 5\n",
    "Nhap vao \"string\". Kiem tra xem co doi xung hay khong?\n",
    "Note: Chuoi doi xung la chuoi co thu tu giong nhau khi doc tu trai sang phai va nguoc lai\n",
    "VD:\n",
    "abba\n",
    "abcdcba"
   ]
  },
  {
   "cell_type": "code",
   "execution_count": 16,
   "id": "e6c4bfea",
   "metadata": {},
   "outputs": [
    {
     "name": "stdout",
     "output_type": "stream",
     "text": [
      "Nhap string:1234567\n",
      "False\n"
     ]
    }
   ],
   "source": [
    "string = input(\"Nhap string:\")\n",
    "reversed_string = string[::-1]\n",
    "print(string==reversed_string)"
   ]
  },
  {
   "cell_type": "code",
   "execution_count": null,
   "id": "38f1f8be",
   "metadata": {},
   "outputs": [],
   "source": []
  }
 ],
 "metadata": {
  "kernelspec": {
   "display_name": "Python 3 (ipykernel)",
   "language": "python",
   "name": "python3"
  },
  "language_info": {
   "codemirror_mode": {
    "name": "ipython",
    "version": 3
   },
   "file_extension": ".py",
   "mimetype": "text/x-python",
   "name": "python",
   "nbconvert_exporter": "python",
   "pygments_lexer": "ipython3",
   "version": "3.7.8"
  }
 },
 "nbformat": 4,
 "nbformat_minor": 5
}
