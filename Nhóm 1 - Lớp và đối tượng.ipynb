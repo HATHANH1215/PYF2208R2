{
 "cells": [
  {
   "cell_type": "markdown",
   "id": "7ade5b3d",
   "metadata": {},
   "source": [
    "Lớp (Class) là tập hợp tất cả các đối tượng có chung các thuộc tính và hành vi.\n",
    "Thuộc tính là những tính chất, hình dáng bên ngoài, màu…của đối tượng. (~ Dữ liệu)\n",
    "Hành vi là những chức năng, hành động của đối tượng có thể thực hiện được.(~ Hàm)\n",
    "Ví dụ:\n",
    "Trong class Học sinh, chúng ta có:\n",
    "Thuộc tính: id, tên tuổi, địa chỉ, điểm toán, điểm văn,...\n",
    "Hành vi: check, show"
   ]
  },
  {
   "cell_type": "code",
   "execution_count": null,
   "id": "1e807412",
   "metadata": {},
   "outputs": [],
   "source": [
    "# Cách khai báo lớp\n",
    "# Giống như định nghĩa hàm bắt đầu bằng từ khóa def trong Python, định nghĩa lớp bắt đầu bằng từ khóa class.\n",
    "\n",
    "class HocSinh:\n",
    "    'docstrings'\n",
    "    <Câu lệnh 1>\n",
    "    <Câu lệnh 2>\n",
    "    .\n",
    "    .\n",
    "    <Câu lệnh N>"
   ]
  },
  {
   "cell_type": "markdown",
   "id": "dab64c11",
   "metadata": {},
   "source": [
    "Trong đó:\n",
    "- HocSinh: là tên được đặt cho lớp được định nghĩa, chúng ta sẽ tương tác với các đối tượng sinh ra từ lớp bằng cách sử dụng tên này.\n",
    "- Chuỗi đầu tiên bên trong lớp được gọi là docstring và có nhiệm vụ mô tả ngắn gọn về lớp, mặc dù là không bắt buộc.\n",
    "- Các câu lệnh để định nghĩa các thuộc tính và hành vi (phương thức) của đối tượng trong lớp."
   ]
  },
  {
   "cell_type": "code",
   "execution_count": null,
   "id": "e7ec99d0",
   "metadata": {},
   "outputs": [],
   "source": [
    "class HocSinh:\n",
    "    'Đây là lớp Học sinh đánh giá bằng 2 môn Toán và Văn'\n",
    "    id = ''\n",
    "    ten = ''\n",
    "    tuoi = ''\n",
    "    dia_chi = ''\n",
    "    diem_toan = ''\n",
    "    dien_van = ''\n",
    "    level = ''\n",
    "    def __init__(self, id, ten, tuoi, dia_chi, diem_toan, diem_van):\n",
    "        # khai báo các thuộc tính của HocSinh\n",
    "        self.id = id\n",
    "        self.ten = ten\n",
    "        self.tuoi = tuoi\n",
    "        self.dia_chi = dia_chi\n",
    "        self.diem_toan = diem_toan\n",
    "        self.diem_van = diem_van\n",
    "        # khai báo các phương thức của HocSinh\n",
    "    def check(self, diem_toan, diem_van):\n",
    "        if diem_toan >= 8 and diem_van >= 8:\n",
    "            self.level = 'Gioi'\n",
    "        elif diem_toan <= 5 and diem_van <= 5:\n",
    "            self.level = 'kem'\n",
    "        else:\n",
    "            self.level = 'trung binh'\n",
    "    def show(self):\n",
    "        self.check(self.diem_toan, self.diem_van)\n",
    "        print(f'Thông báo {self.ten} thuộc level: {self.level}')"
   ]
  },
  {
   "cell_type": "markdown",
   "id": "9d4dc456",
   "metadata": {},
   "source": [
    "Một lớp là một bản thiết kế cho đối tượng. Chúng ta có thể coi một lớp như một bản phác thảo của một ngôi nhà với các chi tiết. Nó chứa tất cả các chi tiết về tên, màu sắc, kích thước,.. Dựa trên những mô tả này, chúng ta có thể xây dựng các ngôi nhà. Ở đây, một ngôi nhà là một đối tượng. Tức là bạn có thể sử dụng bản thiết kế (hay lớp này) để định nghĩa bao nhiêu đối tượng tùy thích."
   ]
  },
  {
   "cell_type": "markdown",
   "id": "aefe52f6",
   "metadata": {},
   "source": [
    "Về mặt biểu diễn các khối lệnh, áp dụng các quy tắc thụt lề tương tự như hàm với lưu ý ở đây khối định nghĩa lớp là khối lệnh lớn nhất, sau đó sẽ đến các khối lệnh định nghĩa hàm (phương thức) trong lớp, các khối điều kiện, vòng lặp...Mỗi khối lệnh nhỏ nằm trong khối lệnh lớn sẽ phải thụt dòng một khoảng bằng nhau!"
   ]
  },
  {
   "cell_type": "markdown",
   "id": "f5880e0b",
   "metadata": {},
   "source": [
    "Python cho phép một lớp (hay class) sử dụng lại các thuộc tính và phương thức từ các lớp khác đã được định nghĩa. Các lớp con trong Python sẽ khai báo việc kế thừa một lớp cha ngay trong phần khai báo class và sử dụng khai báo việc kế thừa thông qua việc truyền tên của lớp cha (lớp cần kế thừa) vào trong phần đầu class. Ví dụ: class Lop(HocSinh) để khai báo class(Lop) kế thừa class(HocSinh).\n",
    "Khi một lớp con kế thừa lớp cha thì lớp con sẽ có thể có tất cả các thuộc tính và phương thức của lớp cha. Ngoài ra lớp con cũng có thể mở rộng các thành phần kế thừa từ lớp cha và bổ sung thêm các thành phần mới."
   ]
  },
  {
   "cell_type": "code",
   "execution_count": null,
   "id": "f340122b",
   "metadata": {},
   "outputs": [],
   "source": [
    "# khai báo lớp Lớp kế thừa lớp HocSinh\n",
    "class Lop(HocSinh):\n",
    "    #khai báo thuộc tính của lớp Lop\n",
    "    def __init__(self, gioi_tinh, diem_trung_binh):\n",
    "        self.GioiTinh = gioitinh\n",
    "        self.DiemTrungBinh = diem_trung_binh\n",
    "        self.ThuTu = thu_tu\n",
    "    #Khai báo cac phương thức của lớp Lop\n",
    "    def HocThemNgoai(self):\n",
    "        print(\"Học sinh\" + self.ten + \"xếp loại\" + .......co hoc them ngoai ko..... )\n",
    "    def DanhGia(self):\n",
    "        print(\"Học sinh\" + self.ten + \"xếp thứ\" + self.ThuTu)"
   ]
  }
 ],
 "metadata": {
  "kernelspec": {
   "display_name": "Python 3 (ipykernel)",
   "language": "python",
   "name": "python3"
  },
  "language_info": {
   "codemirror_mode": {
    "name": "ipython",
    "version": 3
   },
   "file_extension": ".py",
   "mimetype": "text/x-python",
   "name": "python",
   "nbconvert_exporter": "python",
   "pygments_lexer": "ipython3",
   "version": "3.7.8"
  }
 },
 "nbformat": 4,
 "nbformat_minor": 5
}
